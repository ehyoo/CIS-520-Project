{
 "cells": [
  {
   "cell_type": "code",
   "execution_count": 1,
   "metadata": {},
   "outputs": [],
   "source": [
    "from sklearn.feature_extraction.text import CountVectorizer\n",
    "from sklearn.model_selection import train_test_split\n",
    "from sklearn.ensemble import RandomForestClassifier\n",
    "from sklearn.metrics import precision_recall_fscore_support\n",
    "from sklearn.model_selection import RandomizedSearchCV\n",
    "import sklearn\n",
    "import pandas as pd\n",
    "import numpy as np\n",
    "import scipy\n",
    "import matplotlib.pyplot as plt\n",
    "import os"
   ]
  },
  {
   "cell_type": "markdown",
   "metadata": {},
   "source": [
    "## Loading in our data\n",
    "We have four sets to try out:\n",
    " * No n-gram\n",
    " * Only POS ngram\n",
    " * Only word ngram\n",
    " * both POS and word ngrams"
   ]
  },
  {
   "cell_type": "code",
   "execution_count": 2,
   "metadata": {},
   "outputs": [],
   "source": [
    "base_dir = '../data/features'\n",
    "\n",
    "X_train_all = scipy.sparse.load_npz(os.path.join(base_dir, 'X_train_balanced_all.npz'))\n",
    "X_test_all = scipy.sparse.load_npz(os.path.join(base_dir, \"X_test_balanced_all.npz\"))\n",
    "\n",
    "X_train_pos = scipy.sparse.load_npz(os.path.join(base_dir, 'X_train_pos_only_balanced.npz'))\n",
    "X_test_pos = scipy.sparse.load_npz(os.path.join(base_dir, \"X_test_pos_only_balanced.npz\"))\n",
    "\n",
    "X_train_words = scipy.sparse.load_npz(os.path.join(base_dir, 'X_train_words_only_balanced.npz'))\n",
    "X_test_words = scipy.sparse.load_npz(os.path.join(base_dir, \"X_test_words_only_balanced.npz\"))\n",
    "\n",
    "X_train_none = scipy.sparse.load_npz(os.path.join(base_dir, 'X_train_no_ngram.npz'))\n",
    "X_test_none = scipy.sparse.load_npz(os.path.join(base_dir, \"X_test_no_ngram.npz\"))"
   ]
  },
  {
   "cell_type": "code",
   "execution_count": 3,
   "metadata": {},
   "outputs": [],
   "source": [
    "y_train = np.ravel(np.load('../data/features/y_train_balanced.npy'))\n",
    "y_test = np.ravel(np.load('../data/features/y_test_balanced.npy'))"
   ]
  },
  {
   "cell_type": "code",
   "execution_count": 4,
   "metadata": {},
   "outputs": [
    {
     "name": "stdout",
     "output_type": "stream",
     "text": [
      "(119293, 20319)\n",
      "(29526, 20319)\n"
     ]
    }
   ],
   "source": [
    "print(X_train_all.shape)\n",
    "print(X_test_all.shape)"
   ]
  },
  {
   "cell_type": "code",
   "execution_count": 5,
   "metadata": {},
   "outputs": [
    {
     "name": "stdout",
     "output_type": "stream",
     "text": [
      "(119293, 18771)\n",
      "(29526, 18771)\n"
     ]
    }
   ],
   "source": [
    "print(X_train_pos.shape)\n",
    "print(X_test_pos.shape)"
   ]
  },
  {
   "cell_type": "code",
   "execution_count": 6,
   "metadata": {},
   "outputs": [
    {
     "name": "stdout",
     "output_type": "stream",
     "text": [
      "(119293, 2039)\n",
      "(29526, 2039)\n"
     ]
    }
   ],
   "source": [
    "print(X_train_words.shape)\n",
    "print(X_test_words.shape)"
   ]
  },
  {
   "cell_type": "code",
   "execution_count": 7,
   "metadata": {},
   "outputs": [
    {
     "name": "stdout",
     "output_type": "stream",
     "text": [
      "(119293, 491)\n",
      "(29526, 491)\n"
     ]
    }
   ],
   "source": [
    "print(X_train_none.shape)\n",
    "print(X_test_none.shape)"
   ]
  },
  {
   "cell_type": "code",
   "execution_count": 8,
   "metadata": {},
   "outputs": [],
   "source": [
    "# Grid of potential parameters\n",
    "# Based from https://towardsdatascience.com/hyperparameter-tuning-the-random-forest-in-python-using-scikit-learn-28d2aa77dd74\n",
    "# to learn how to black-box grid-searches.\n",
    "\n",
    "# param_grid = {\n",
    "#     'n_estimators': [150, 300, 350, 400],\n",
    "#     'max_depth': [100, 150, 200],\n",
    "#     'min_samples_split': [2, 5, 10],\n",
    "#     'min_samples_leaf': [1, 5, 10],\n",
    "#     'class_weight': ['balanced_subsample']\n",
    "# }"
   ]
  },
  {
   "cell_type": "code",
   "execution_count": 9,
   "metadata": {},
   "outputs": [],
   "source": [
    "# We use RandomizedSearch, but since our num_iters is larger than the possible combinations, it's effectively a grid search.\n",
    "\n",
    "# random_forest = RandomForestClassifier()\n",
    "# random_forest_randomized_search = RandomizedSearchCV(estimator=random_forest,\n",
    "#                                                      param_distributions=param_grid,\n",
    "#                                                      cv=3,\n",
    "#                                                      n_iter=500,\n",
    "#                                                      scoring='f1',\n",
    "#                                                      n_jobs=6,\n",
    "#                                                      verbose=3,\n",
    "#                                                      random_state=15)"
   ]
  },
  {
   "cell_type": "code",
   "execution_count": 10,
   "metadata": {},
   "outputs": [],
   "source": [
    "# random_forest_randomized_search.fit(X_train, y_train) # this was done on all features (including pos and words)"
   ]
  },
  {
   "cell_type": "code",
   "execution_count": 11,
   "metadata": {},
   "outputs": [],
   "source": [
    "# random_forest_randomized_search.best_params_"
   ]
  },
  {
   "cell_type": "markdown",
   "metadata": {},
   "source": [
    "Optimal params for our 80/20 split:\n",
    " * max_depth: 100\n",
    " * min_samples_leaf=10\n",
    " * min_samples_split': 2,\n",
    " * n_estimators: 300\n",
    " * class_weight: balanced_subsample"
   ]
  },
  {
   "cell_type": "code",
   "execution_count": 12,
   "metadata": {},
   "outputs": [],
   "source": [
    "def create_random_forest_clf(X_train, y_train, X_test, y_test, depth=100):\n",
    "    tuned_rf = RandomForestClassifier(\n",
    "        max_depth=depth, # was 50 for full\n",
    "        min_samples_leaf=10,\n",
    "        min_samples_split= 2,\n",
    "        n_estimators=300, # Was 200 for full\n",
    "        n_jobs=-1, # to maximize computing power\n",
    "        random_state=15,\n",
    "        class_weight='balanced_subsample' # experimenting with weights\n",
    "    )\n",
    "    tuned_rf.fit(X_train, y_train)\n",
    "    return tuned_rf"
   ]
  },
  {
   "cell_type": "code",
   "execution_count": 13,
   "metadata": {},
   "outputs": [],
   "source": [
    "all_rf = create_random_forest_clf(X_train_all, y_train, X_test_all, y_test)\n",
    "pos_rf = create_random_forest_clf(X_train_pos, y_train, X_test_pos, y_test)\n",
    "words_rf = create_random_forest_clf(X_train_words, y_train, X_test_words, y_test)\n",
    "none_rf = create_random_forest_clf(X_train_none, y_train, X_test_none, y_test, 25) # define depth as 25 here bc of the lack of features"
   ]
  },
  {
   "cell_type": "code",
   "execution_count": 14,
   "metadata": {},
   "outputs": [],
   "source": [
    "all_predictions_train = all_rf.predict(X_train_all)\n",
    "all_predictions_test = all_rf.predict(X_test_all)\n",
    "\n",
    "pos_predictions_train = pos_rf.predict(X_train_pos)\n",
    "pos_predictions_test = pos_rf.predict(X_test_pos)\n",
    "\n",
    "words_predictions_train = words_rf.predict(X_train_words)\n",
    "words_predictions_test = words_rf.predict(X_test_words)\n",
    "\n",
    "none_predictions_train = none_rf.predict(X_train_none)\n",
    "none_predictions_test = none_rf.predict(X_test_none)"
   ]
  },
  {
   "cell_type": "code",
   "execution_count": 15,
   "metadata": {},
   "outputs": [],
   "source": [
    "all_probs_train = [x[1] for x in all_rf.predict_proba(X_train_all)]\n",
    "all_probs_test = [x[1] for x in all_rf.predict_proba(X_test_all)]\n",
    "\n",
    "pos_probs_train = [x[1] for x in pos_rf.predict_proba(X_train_pos)]\n",
    "pos_probs_test = [x[1] for x in pos_rf.predict_proba(X_test_pos)]\n",
    "\n",
    "words_probs_train = [x[1] for x in words_rf.predict_proba(X_train_words)]\n",
    "words_probs_test = [x[1] for x in words_rf.predict_proba(X_test_words)]\n",
    "\n",
    "none_probs_train = [x[1] for x in none_rf.predict_proba(X_train_none)]\n",
    "none_probs_test = [x[1] for x in none_rf.predict_proba(X_test_none)]"
   ]
  },
  {
   "cell_type": "code",
   "execution_count": 16,
   "metadata": {},
   "outputs": [],
   "source": [
    "def print_performance_stats(y_actual, y_predict):\n",
    "    f1_score = sklearn.metrics.f1_score(y_actual, y_predict)\n",
    "    precision = sklearn.metrics.precision_score(y_actual, y_predict)\n",
    "    recall  = sklearn.metrics.recall_score(y_actual, y_predict)\n",
    "    confusion_matrix = sklearn.metrics.confusion_matrix(y_actual, y_predict)\n",
    "    print(\"F1 Score: \" + str(f1_score))\n",
    "    print(\"Precision: \" + str(precision))\n",
    "    print(\"Recall: \" + str(recall))\n",
    "    print(\"Confusion Matrix: \" + str(confusion_matrix))\n",
    "    "
   ]
  },
  {
   "cell_type": "markdown",
   "metadata": {},
   "source": [
    "### Results"
   ]
  },
  {
   "cell_type": "markdown",
   "metadata": {},
   "source": [
    "1. All Features"
   ]
  },
  {
   "cell_type": "code",
   "execution_count": 17,
   "metadata": {},
   "outputs": [
    {
     "name": "stdout",
     "output_type": "stream",
     "text": [
      "Training:\n",
      "F1 Score: 0.5316720283488741\n",
      "Precision: 0.4369966713196607\n",
      "Recall: 0.6787158640817177\n",
      "Confusion Matrix: [[74335 20973]\n",
      " [ 7706 16279]]\n",
      "\n",
      "\n",
      "Testing:\n",
      "F1 Score: 0.3480431848852901\n",
      "Precision: 0.2897752808988764\n",
      "Recall: 0.4356418918918919\n",
      "Confusion Matrix: [[17285  6321]\n",
      " [ 3341  2579]]\n"
     ]
    }
   ],
   "source": [
    "print('Training:')\n",
    "print_performance_stats(y_train, all_predictions_train)\n",
    "print('\\n\\nTesting:')\n",
    "print_performance_stats(y_test, all_predictions_test)"
   ]
  },
  {
   "cell_type": "markdown",
   "metadata": {},
   "source": [
    "Training:\n",
    "F1 Score: 0.5332726652257991\n",
    "Precision: 0.4369407754580315\n",
    "Recall: 0.6840942255576402\n",
    "Confusion Matrix: [[74164 21144]\n",
    " [ 7577 16408]]\n",
    "\n",
    "\n",
    "Testing:\n",
    "F1 Score: 0.3488372093023256\n",
    "Precision: 0.2896851975887475\n",
    "Recall: 0.43834459459459457\n",
    "Confusion Matrix: [[17243  6363]\n",
    " [ 3325  2595]]"
   ]
  },
  {
   "cell_type": "markdown",
   "metadata": {},
   "source": [
    "2. Only POS"
   ]
  },
  {
   "cell_type": "code",
   "execution_count": 18,
   "metadata": {},
   "outputs": [
    {
     "name": "stdout",
     "output_type": "stream",
     "text": [
      "Training:\n",
      "F1 Score: 0.5361046057767369\n",
      "Precision: 0.439484841212703\n",
      "Recall: 0.6871794871794872\n",
      "Confusion Matrix: [[74287 21021]\n",
      " [ 7503 16482]]\n",
      "\n",
      "\n",
      "Testing:\n",
      "F1 Score: 0.33422638981915603\n",
      "Precision: 0.2769145394006659\n",
      "Recall: 0.4214527027027027\n",
      "Confusion Matrix: [[17091  6515]\n",
      " [ 3425  2495]]\n"
     ]
    }
   ],
   "source": [
    "print('Training:')\n",
    "print_performance_stats(y_train, pos_predictions_train)\n",
    "print('\\n\\nTesting:')\n",
    "print_performance_stats(y_test, pos_predictions_test)"
   ]
  },
  {
   "cell_type": "markdown",
   "metadata": {},
   "source": [
    "Training:\n",
    "F1 Score: 0.5354972869350488\n",
    "Precision: 0.4386861508158322\n",
    "Recall: 0.6871377944548677\n",
    "Confusion Matrix: [[74220 21088]\n",
    " [ 7504 16481]]\n",
    "\n",
    "\n",
    "Testing:\n",
    "F1 Score: 0.3353028064992615\n",
    "Precision: 0.27824827278805436\n",
    "Recall: 0.42179054054054055\n",
    "Confusion Matrix: [[17129  6477]\n",
    " [ 3423  2497]]"
   ]
  },
  {
   "cell_type": "markdown",
   "metadata": {},
   "source": [
    "3. Only word n-grams"
   ]
  },
  {
   "cell_type": "code",
   "execution_count": 19,
   "metadata": {},
   "outputs": [
    {
     "name": "stdout",
     "output_type": "stream",
     "text": [
      "Training:\n",
      "F1 Score: 0.40868222424268663\n",
      "Precision: 0.31251931311526066\n",
      "Recall: 0.5903272878882635\n",
      "Confusion Matrix: [[64161 31147]\n",
      " [ 9826 14159]]\n",
      "\n",
      "\n",
      "Testing:\n",
      "F1 Score: 0.35926055109870947\n",
      "Precision: 0.273887608580039\n",
      "Recall: 0.5219594594594594\n",
      "Confusion Matrix: [[15414  8192]\n",
      " [ 2830  3090]]\n"
     ]
    }
   ],
   "source": [
    "print('Training:')\n",
    "print_performance_stats(y_train, words_predictions_train)\n",
    "print('\\n\\nTesting:')\n",
    "print_performance_stats(y_test, words_predictions_test)"
   ]
  },
  {
   "cell_type": "markdown",
   "metadata": {},
   "source": [
    "Training:\n",
    "F1 Score: 0.40868222424268663\n",
    "Precision: 0.31251931311526066\n",
    "Recall: 0.5903272878882635\n",
    "Confusion Matrix: [[64161 31147]\n",
    " [ 9826 14159]]\n",
    "\n",
    "\n",
    "Testing:\n",
    "F1 Score: 0.35926055109870947\n",
    "Precision: 0.273887608580039\n",
    "Recall: 0.5219594594594594\n",
    "Confusion Matrix: [[15414  8192]\n",
    " [ 2830  3090]]"
   ]
  },
  {
   "cell_type": "markdown",
   "metadata": {},
   "source": [
    "4. No n-grams"
   ]
  },
  {
   "cell_type": "code",
   "execution_count": 20,
   "metadata": {},
   "outputs": [
    {
     "name": "stdout",
     "output_type": "stream",
     "text": [
      "Training:\n",
      "F1 Score: 0.3703403671522833\n",
      "Precision: 0.269686013320647\n",
      "Recall: 0.5908692933083177\n",
      "Confusion Matrix: [[56930 38378]\n",
      " [ 9813 14172]]\n",
      "\n",
      "\n",
      "Testing:\n",
      "F1 Score: 0.34643084092353316\n",
      "Precision: 0.2523141005862388\n",
      "Recall: 0.5525337837837838\n",
      "Confusion Matrix: [[13913  9693]\n",
      " [ 2649  3271]]\n"
     ]
    }
   ],
   "source": [
    "print('Training:')\n",
    "print_performance_stats(y_train, none_predictions_train)\n",
    "print('\\n\\nTesting:')\n",
    "print_performance_stats(y_test, none_predictions_test)"
   ]
  },
  {
   "cell_type": "markdown",
   "metadata": {},
   "source": [
    "Training:\n",
    "F1 Score: 0.3703403671522833\n",
    "Precision: 0.269686013320647\n",
    "Recall: 0.5908692933083177\n",
    "Confusion Matrix: [[56930 38378]\n",
    " [ 9813 14172]]\n",
    "\n",
    "\n",
    "Testing:\n",
    "F1 Score: 0.34643084092353316\n",
    "Precision: 0.2523141005862388\n",
    "Recall: 0.5525337837837838\n",
    "Confusion Matrix: [[13913  9693]\n",
    " [ 2649  3271]]"
   ]
  },
  {
   "cell_type": "code",
   "execution_count": 21,
   "metadata": {},
   "outputs": [],
   "source": [
    "# ROC curve?\n",
    "\n",
    "fpr_all_training, tpr_all_training, _ = sklearn.metrics.roc_curve(y_train, all_probs_train)\n",
    "fpr_all_testing, tpr_all_testing, _ = sklearn.metrics.roc_curve(y_test, all_probs_test)\n",
    "\n",
    "fpr_pos_training, tpr_pos_training, _ = sklearn.metrics.roc_curve(y_train, pos_probs_train)\n",
    "fpr_pos_testing, tpr_pos_testing, _ = sklearn.metrics.roc_curve(y_test, pos_probs_test)\n",
    "\n",
    "fpr_words_training, tpr_words_training, _ = sklearn.metrics.roc_curve(y_train, words_probs_train)\n",
    "fpr_words_testing, tpr_words_testing, _ = sklearn.metrics.roc_curve(y_test, words_probs_test)\n",
    "\n",
    "fpr_none_training, tpr_none_training, _ = sklearn.metrics.roc_curve(y_train, none_probs_train)\n",
    "fpr_none_testing, tpr_none_testing, _ = sklearn.metrics.roc_curve(y_test, none_probs_test)"
   ]
  },
  {
   "cell_type": "code",
   "execution_count": 22,
   "metadata": {},
   "outputs": [
    {
     "name": "stdout",
     "output_type": "stream",
     "text": [
      "0.8095594442809684\n"
     ]
    },
    {
     "data": {
      "image/png": "[encoded data removed]",
      "text/plain": [
       "<Figure size 432x288 with 1 Axes>"
      ]
     },
     "metadata": {
      "needs_background": "light"
     },
     "output_type": "display_data"
    },
    {
     "name": "stdout",
     "output_type": "stream",
     "text": [
      "0.6262562763188929\n"
     ]
    },
    {
     "data": {
      "image/png": "[encoded data removed]",
      "text/plain": [
       "<Figure size 432x288 with 1 Axes>"
      ]
     },
     "metadata": {
      "needs_background": "light"
     },
     "output_type": "display_data"
    }
   ],
   "source": [
    "plt.plot(fpr_all_training, tpr_all_training)\n",
    "print(sklearn.metrics.auc(fpr_all_training, tpr_all_training))\n",
    "plt.xlabel('False Positive Rate')\n",
    "plt.ylabel('True Positive Rate')\n",
    "plt.title('ROC Curve Training (All)')\n",
    "plt.show()\n",
    "\n",
    "plt.plot(fpr_all_testing, tpr_all_testing)\n",
    "print(sklearn.metrics.auc(fpr_all_testing, tpr_all_testing))\n",
    "plt.xlabel('False Positive Rate')\n",
    "plt.ylabel('True Positive Rate')\n",
    "plt.title('ROC Curve Testing (All)')\n",
    "plt.show()"
   ]
  },
  {
   "cell_type": "code",
   "execution_count": 23,
   "metadata": {},
   "outputs": [
    {
     "name": "stdout",
     "output_type": "stream",
     "text": [
      "0.8101935170516673\n"
     ]
    },
    {
     "data": {
      "image/png": "[encoded data removed]",
      "text/plain": [
       "<Figure size 432x288 with 1 Axes>"
      ]
     },
     "metadata": {
      "needs_background": "light"
     },
     "output_type": "display_data"
    },
    {
     "name": "stdout",
     "output_type": "stream",
     "text": [
      "0.6078090151438824\n"
     ]
    },
    {
     "data": {
      "image/png": "[encoded data removed]",
      "text/plain": [
       "<Figure size 432x288 with 1 Axes>"
      ]
     },
     "metadata": {
      "needs_background": "light"
     },
     "output_type": "display_data"
    }
   ],
   "source": [
    "plt.plot(fpr_pos_training, tpr_pos_training)\n",
    "print(sklearn.metrics.auc(fpr_pos_training, tpr_pos_training))\n",
    "plt.xlabel('False Positive Rate')\n",
    "plt.ylabel('True Positive Rate')\n",
    "plt.title('ROC Curve Training (POS Only)')\n",
    "plt.show()\n",
    "\n",
    "plt.plot(fpr_pos_testing, tpr_pos_testing)\n",
    "print(sklearn.metrics.auc(fpr_pos_testing, tpr_pos_testing))\n",
    "plt.xlabel('False Positive Rate')\n",
    "plt.ylabel('True Positive Rate')\n",
    "plt.title('ROC Curve Testing (POS Only)')\n",
    "plt.show()"
   ]
  },
  {
   "cell_type": "code",
   "execution_count": 24,
   "metadata": {},
   "outputs": [
    {
     "name": "stdout",
     "output_type": "stream",
     "text": [
      "0.6876632882296164\n"
     ]
    },
    {
     "data": {
      "image/png": "[encoded data removed]",
      "text/plain": [
       "<Figure size 432x288 with 1 Axes>"
      ]
     },
     "metadata": {
      "needs_background": "light"
     },
     "output_type": "display_data"
    },
    {
     "name": "stdout",
     "output_type": "stream",
     "text": [
      "0.6281284526551885\n"
     ]
    },
    {
     "data": {
      "image/png": "[encoded data removed]",
      "text/plain": [
       "<Figure size 432x288 with 1 Axes>"
      ]
     },
     "metadata": {
      "needs_background": "light"
     },
     "output_type": "display_data"
    }
   ],
   "source": [
    "plt.plot(fpr_words_training, tpr_words_training)\n",
    "print(sklearn.metrics.auc(fpr_words_training, tpr_words_training))\n",
    "plt.xlabel('False Positive Rate')\n",
    "plt.ylabel('True Positive Rate')\n",
    "plt.title('ROC Curve Training (Words Only)')\n",
    "plt.show()\n",
    "\n",
    "plt.plot(fpr_words_testing, tpr_words_testing)\n",
    "print(sklearn.metrics.auc(fpr_words_testing, tpr_words_testing))\n",
    "plt.xlabel('False Positive Rate')\n",
    "plt.ylabel('True Positive Rate')\n",
    "plt.title('ROC Curve Testing (Words Only)')\n",
    "plt.show()"
   ]
  },
  {
   "cell_type": "code",
   "execution_count": 25,
   "metadata": {},
   "outputs": [
    {
     "name": "stdout",
     "output_type": "stream",
     "text": [
      "0.6337785226369298\n"
     ]
    },
    {
     "data": {
      "image/png": "[encoded data removed]",
      "text/plain": [
       "<Figure size 432x288 with 1 Axes>"
      ]
     },
     "metadata": {
      "needs_background": "light"
     },
     "output_type": "display_data"
    },
    {
     "name": "stdout",
     "output_type": "stream",
     "text": [
      "0.603466970290421\n"
     ]
    },
    {
     "data": {
      "image/png": "[encoded data removed]",
      "text/plain": [
       "<Figure size 432x288 with 1 Axes>"
      ]
     },
     "metadata": {
      "needs_background": "light"
     },
     "output_type": "display_data"
    }
   ],
   "source": [
    "plt.plot(fpr_none_training, tpr_none_training)\n",
    "print(sklearn.metrics.auc(fpr_none_training, tpr_none_training))\n",
    "plt.xlabel('False Positive Rate')\n",
    "plt.ylabel('True Positive Rate')\n",
    "plt.title('ROC Curve Training (None)')\n",
    "plt.show()\n",
    "\n",
    "plt.plot(fpr_none_testing, tpr_none_testing)\n",
    "print(sklearn.metrics.auc(fpr_none_testing, tpr_none_testing))\n",
    "plt.xlabel('False Positive Rate')\n",
    "plt.ylabel('True Positive Rate')\n",
    "plt.title('ROC Curve Testing (Words)')\n",
    "plt.show()"
   ]
  },
  {
   "cell_type": "code",
   "execution_count": 26,
   "metadata": {},
   "outputs": [],
   "source": [
    "all_feat_importances = np.ndarray.tolist(all_rf.feature_importances_)"
   ]
  },
  {
   "cell_type": "code",
   "execution_count": 27,
   "metadata": {},
   "outputs": [],
   "source": [
    "zipped_feat_importances = [x for x in zip(all_feat_importances, range(len(all_feat_importances)))]"
   ]
  },
  {
   "cell_type": "code",
   "execution_count": 28,
   "metadata": {},
   "outputs": [],
   "source": [
    "zipped_feat_importances.sort(reverse=True, key=lambda x: x[0])"
   ]
  },
  {
   "cell_type": "code",
   "execution_count": 29,
   "metadata": {},
   "outputs": [],
   "source": [
    "top_25_most_important = zipped_feat_importances[0:25]"
   ]
  },
  {
   "cell_type": "code",
   "execution_count": 30,
   "metadata": {},
   "outputs": [
    {
     "data": {
      "text/plain": [
       "[(0.025286556074498083, 0),\n",
       " (0.023967710630549446, 5),\n",
       " (0.023799667386940757, 2),\n",
       " (0.02264897929746557, 4),\n",
       " (0.020948729055812264, 3),\n",
       " (0.01505776989936599, 14),\n",
       " (0.012963675589078289, 35),\n",
       " (0.012436900854382886, 11),\n",
       " (0.01240941122783996, 9),\n",
       " (0.011012084851925182, 8),\n",
       " (0.010027122858933566, 164),\n",
       " (0.009808856772910874, 6),\n",
       " (0.009009460400303248, 7),\n",
       " (0.006582367129793536, 1),\n",
       " (0.006143788615623307, 13),\n",
       " (0.005263980529319652, 16),\n",
       " (0.004571123817062439, 22),\n",
       " (0.004533597928878329, 915),\n",
       " (0.004300474286432919, 624),\n",
       " (0.003706379766553755, 101),\n",
       " (0.0035058441338036298, 927),\n",
       " (0.002932238539715204, 1475),\n",
       " (0.0027167768484319095, 112),\n",
       " (0.0026236816739915684, 2745),\n",
       " (0.0024714291519252205, 644)]"
      ]
     },
     "execution_count": 30,
     "metadata": {},
     "output_type": "execute_result"
    }
   ],
   "source": [
    "top_25_most_important"
   ]
  },
  {
   "cell_type": "code",
   "execution_count": 31,
   "metadata": {},
   "outputs": [],
   "source": [
    "# also known as...\n",
    "feature_names = np.load('../data/features/all_features_arr.npy')"
   ]
  },
  {
   "cell_type": "code",
   "execution_count": 32,
   "metadata": {},
   "outputs": [],
   "source": [
    "top_25_most_important_indices = [x[1] for x in top_25_most_important]"
   ]
  },
  {
   "cell_type": "code",
   "execution_count": 33,
   "metadata": {},
   "outputs": [],
   "source": [
    "top_25_most_important_feature_names = []\n",
    "for x in top_25_most_important_indices:\n",
    "    top_25_most_important_feature_names.append(feature_names[x])"
   ]
  },
  {
   "cell_type": "code",
   "execution_count": 34,
   "metadata": {},
   "outputs": [],
   "source": [
    "top_25_most_important_feature_names = [str(x) for x in top_25_most_important_feature_names]"
   ]
  },
  {
   "cell_type": "code",
   "execution_count": 43,
   "metadata": {},
   "outputs": [
    {
     "data": {
      "text/plain": [
       "Text(0.5, 1.0, 'Top 25 most important features and importance scores')"
      ]
     },
     "execution_count": 43,
     "metadata": {},
     "output_type": "execute_result"
    },
    {
     "data": {
      "image/png": "[encoded data removed]",
      "text/plain": [
       "<Figure size 360x360 with 1 Axes>"
      ]
     },
     "metadata": {
      "needs_background": "light"
     },
     "output_type": "display_data"
    }
   ],
   "source": [
    "# Then plotting the most important things:\n",
    "plt.figure(figsize=(5, 5))  # width:20, height:3\n",
    "plt.barh(top_25_most_important_feature_names, [x[0] for x in top_25_most_important])\n",
    "plt.title('Top 25 most important features and importance scores')"
   ]
  },
  {
   "cell_type": "code",
   "execution_count": 45,
   "metadata": {},
   "outputs": [
    {
     "data": {
      "text/plain": [
       "0.6727629885524622"
      ]
     },
     "execution_count": 45,
     "metadata": {},
     "output_type": "execute_result"
    }
   ],
   "source": [
    "sklearn.metrics.accuracy_score(y_test, all_predictions_test)"
   ]
  }
 ],
 "metadata": {
  "kernelspec": {
   "display_name": "Python 3",
   "language": "python",
   "name": "python3"
  },
  "language_info": {
   "codemirror_mode": {
    "name": "ipython",
    "version": 3
   },
   "file_extension": ".py",
   "mimetype": "text/x-python",
   "name": "python",
   "nbconvert_exporter": "python",
   "pygments_lexer": "ipython3",
   "version": "3.5.2"
  }
 },
 "nbformat": 4,
 "nbformat_minor": 2
}
