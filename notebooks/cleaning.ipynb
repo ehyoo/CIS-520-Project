{
 "cells": [
  {
   "cell_type": "markdown",
   "metadata": {},
   "source": [
    "Notebook for cleaning the data: removing stopwords and punctuation"
   ]
  },
  {
   "cell_type": "code",
   "execution_count": 30,
   "metadata": {},
   "outputs": [],
   "source": [
    "import pandas as pd"
   ]
  },
  {
   "cell_type": "code",
   "execution_count": 31,
   "metadata": {},
   "outputs": [],
   "source": [
    "# 78% in memory phew that was scary. \n",
    "sample_train_unbalanced_df = pd.read_csv('../data/pol-train.csv',\n",
    "                                         sep='\\t', header = None,\n",
    "                                         names=[\"label\", \"comment\", \"author\", \"subreddit\", \"score\", \"ups\", \"downs\", \"date\", \"created_utc\", \"parent_comment\"])"
   ]
  },
  {
   "cell_type": "code",
   "execution_count": 32,
   "metadata": {},
   "outputs": [],
   "source": [
    "import nltk\n",
    "from nltk.corpus import stopwords\n",
    "import string"
   ]
  },
  {
   "cell_type": "code",
   "execution_count": 33,
   "metadata": {},
   "outputs": [],
   "source": [
    "# First, clean up our stopwords and punctuation\n",
    "\n",
    "# https://stackoverflow.com/questions/17390326/getting-rid-of-stop-words-and-document-tokenization-using-nltk\n",
    "stop = stopwords.words('english') + list(string.punctuation)\n",
    "punc_list = list(string.punctuation)\n",
    "stop_set = set(stop)\n",
    "\n",
    "def clean_word(word):\n",
    "#     return ''.join([c for c in word if c not in punc_list])\n",
    "    return word\n",
    "\n",
    "def clean_stopwords_and_punctuation(comment_col, col_name):\n",
    "    comment = str(comment_col[col_name])\n",
    "    return ' '.join([clean_word(word) for word in nltk.word_tokenize(comment.lower()) if word not in stop_set])"
   ]
  },
  {
   "cell_type": "code",
   "execution_count": 34,
   "metadata": {},
   "outputs": [
    {
     "data": {
      "text/html": [
       "<div>\n",
       "<style scoped>\n",
       "    .dataframe tbody tr th:only-of-type {\n",
       "        vertical-align: middle;\n",
       "    }\n",
       "\n",
       "    .dataframe tbody tr th {\n",
       "        vertical-align: top;\n",
       "    }\n",
       "\n",
       "    .dataframe thead th {\n",
       "        text-align: right;\n",
       "    }\n",
       "</style>\n",
       "<table border=\"1\" class=\"dataframe\">\n",
       "  <thead>\n",
       "    <tr style=\"text-align: right;\">\n",
       "      <th></th>\n",
       "      <th>comment</th>\n",
       "    </tr>\n",
       "  </thead>\n",
       "  <tbody>\n",
       "    <tr>\n",
       "      <th>0</th>\n",
       "      <td>What's more telling is that their response is ...</td>\n",
       "    </tr>\n",
       "    <tr>\n",
       "      <th>1</th>\n",
       "      <td>Because it's same SOP bullshit that we always ...</td>\n",
       "    </tr>\n",
       "    <tr>\n",
       "      <th>2</th>\n",
       "      <td>Me too fellow white bro.</td>\n",
       "    </tr>\n",
       "    <tr>\n",
       "      <th>3</th>\n",
       "      <td>for biggers?</td>\n",
       "    </tr>\n",
       "    <tr>\n",
       "      <th>4</th>\n",
       "      <td>He was on MSNBC this week.</td>\n",
       "    </tr>\n",
       "  </tbody>\n",
       "</table>\n",
       "</div>"
      ],
      "text/plain": [
       "                                             comment\n",
       "0  What's more telling is that their response is ...\n",
       "1  Because it's same SOP bullshit that we always ...\n",
       "2                           Me too fellow white bro.\n",
       "3                                       for biggers?\n",
       "4                         He was on MSNBC this week."
      ]
     },
     "execution_count": 34,
     "metadata": {},
     "output_type": "execute_result"
    }
   ],
   "source": [
    "sample_train_unbalanced_df.head()[['comment']]"
   ]
  },
  {
   "cell_type": "code",
   "execution_count": 35,
   "metadata": {},
   "outputs": [],
   "source": [
    "sample_train_unbalanced_df['comment'] = sample_train_unbalanced_df[['comment']].apply(lambda x: clean_stopwords_and_punctuation(x, 'comment'), axis=1)"
   ]
  },
  {
   "cell_type": "code",
   "execution_count": 36,
   "metadata": {},
   "outputs": [],
   "source": [
    "sample_train_unbalanced_df['parent_comment'] = sample_train_unbalanced_df[['parent_comment']].apply(lambda x: clean_stopwords_and_punctuation(x, 'parent_comment'), axis=1)"
   ]
  },
  {
   "cell_type": "code",
   "execution_count": 37,
   "metadata": {},
   "outputs": [
    {
     "data": {
      "text/html": [
       "<div>\n",
       "<style scoped>\n",
       "    .dataframe tbody tr th:only-of-type {\n",
       "        vertical-align: middle;\n",
       "    }\n",
       "\n",
       "    .dataframe tbody tr th {\n",
       "        vertical-align: top;\n",
       "    }\n",
       "\n",
       "    .dataframe thead th {\n",
       "        text-align: right;\n",
       "    }\n",
       "</style>\n",
       "<table border=\"1\" class=\"dataframe\">\n",
       "  <thead>\n",
       "    <tr style=\"text-align: right;\">\n",
       "      <th></th>\n",
       "      <th>label</th>\n",
       "      <th>comment</th>\n",
       "      <th>author</th>\n",
       "      <th>subreddit</th>\n",
       "      <th>score</th>\n",
       "      <th>ups</th>\n",
       "      <th>downs</th>\n",
       "      <th>date</th>\n",
       "      <th>created_utc</th>\n",
       "      <th>parent_comment</th>\n",
       "    </tr>\n",
       "  </thead>\n",
       "  <tbody>\n",
       "    <tr>\n",
       "      <th>0</th>\n",
       "      <td>0</td>\n",
       "      <td>'s telling response always shitty meme</td>\n",
       "      <td>Trumpbart</td>\n",
       "      <td>politics</td>\n",
       "      <td>20</td>\n",
       "      <td>-1</td>\n",
       "      <td>-1</td>\n",
       "      <td>2016-11</td>\n",
       "      <td>1477958987</td>\n",
       "      <td>trump fans eat every bullshit conspiracy theor...</td>\n",
       "    </tr>\n",
       "    <tr>\n",
       "      <th>1</th>\n",
       "      <td>0</td>\n",
       "      <td>'s sop bullshit always get dumpsters/trumpbart</td>\n",
       "      <td>Trumpbart</td>\n",
       "      <td>politics</td>\n",
       "      <td>0</td>\n",
       "      <td>-1</td>\n",
       "      <td>-1</td>\n",
       "      <td>2016-11</td>\n",
       "      <td>1478057571</td>\n",
       "      <td>... like article says n't understand people sa...</td>\n",
       "    </tr>\n",
       "    <tr>\n",
       "      <th>2</th>\n",
       "      <td>0</td>\n",
       "      <td>fellow white bro</td>\n",
       "      <td>Trumpbart</td>\n",
       "      <td>politics</td>\n",
       "      <td>1</td>\n",
       "      <td>-1</td>\n",
       "      <td>-1</td>\n",
       "      <td>2016-11</td>\n",
       "      <td>1478096494</td>\n",
       "      <td>white man clinton much trump 's even debate</td>\n",
       "    </tr>\n",
       "    <tr>\n",
       "      <th>3</th>\n",
       "      <td>0</td>\n",
       "      <td>biggers</td>\n",
       "      <td>Trumpbart</td>\n",
       "      <td>politics</td>\n",
       "      <td>3</td>\n",
       "      <td>-1</td>\n",
       "      <td>-1</td>\n",
       "      <td>2016-11</td>\n",
       "      <td>1478384436</td>\n",
       "      <td>talks lot 'riggers 's code word</td>\n",
       "    </tr>\n",
       "    <tr>\n",
       "      <th>4</th>\n",
       "      <td>0</td>\n",
       "      <td>msnbc week</td>\n",
       "      <td>Trumpbart</td>\n",
       "      <td>politics</td>\n",
       "      <td>3</td>\n",
       "      <td>-1</td>\n",
       "      <td>-1</td>\n",
       "      <td>2016-11</td>\n",
       "      <td>1478543621</td>\n",
       "      <td>sabato always seems pretty fair projections th...</td>\n",
       "    </tr>\n",
       "  </tbody>\n",
       "</table>\n",
       "</div>"
      ],
      "text/plain": [
       "   label                                         comment     author subreddit  \\\n",
       "0      0          's telling response always shitty meme  Trumpbart  politics   \n",
       "1      0  's sop bullshit always get dumpsters/trumpbart  Trumpbart  politics   \n",
       "2      0                                fellow white bro  Trumpbart  politics   \n",
       "3      0                                         biggers  Trumpbart  politics   \n",
       "4      0                                      msnbc week  Trumpbart  politics   \n",
       "\n",
       "   score  ups  downs     date  created_utc  \\\n",
       "0     20   -1     -1  2016-11   1477958987   \n",
       "1      0   -1     -1  2016-11   1478057571   \n",
       "2      1   -1     -1  2016-11   1478096494   \n",
       "3      3   -1     -1  2016-11   1478384436   \n",
       "4      3   -1     -1  2016-11   1478543621   \n",
       "\n",
       "                                      parent_comment  \n",
       "0  trump fans eat every bullshit conspiracy theor...  \n",
       "1  ... like article says n't understand people sa...  \n",
       "2        white man clinton much trump 's even debate  \n",
       "3                    talks lot 'riggers 's code word  \n",
       "4  sabato always seems pretty fair projections th...  "
      ]
     },
     "execution_count": 37,
     "metadata": {},
     "output_type": "execute_result"
    }
   ],
   "source": [
    "sample_train_unbalanced_df.head()"
   ]
  },
  {
   "cell_type": "code",
   "execution_count": 38,
   "metadata": {},
   "outputs": [],
   "source": [
    "sample_train_unbalanced_df.to_csv('../data/samples/pol_train_cleaned_with_punctuation.csv', sep='\\t', index=False)"
   ]
  },
  {
   "cell_type": "code",
   "execution_count": 39,
   "metadata": {},
   "outputs": [],
   "source": [
    "sample_train_unbalanced_df = None"
   ]
  },
  {
   "cell_type": "code",
   "execution_count": 40,
   "metadata": {},
   "outputs": [],
   "source": [
    "# 78% in memory phew that was scary. \n",
    "sample_test_unbalanced_df = pd.read_csv('../data/pol-test.csv',\n",
    "                                        sep='\\t', header = None,\n",
    "                                        names=[\"label\", \"comment\", \"author\", \"subreddit\", \"score\", \"ups\", \"downs\", \"date\", \"created_utc\", \"parent_comment\"])"
   ]
  },
  {
   "cell_type": "code",
   "execution_count": 41,
   "metadata": {},
   "outputs": [],
   "source": [
    "sample_test_unbalanced_df['comment'] = sample_test_unbalanced_df[['comment']].apply(lambda x: clean_stopwords_and_punctuation(x, 'comment'), axis=1)"
   ]
  },
  {
   "cell_type": "code",
   "execution_count": 42,
   "metadata": {},
   "outputs": [],
   "source": [
    "sample_test_unbalanced_df['parent_comment'] = sample_test_unbalanced_df[['parent_comment']].apply(lambda x: clean_stopwords_and_punctuation(x, 'parent_comment'), axis=1)"
   ]
  },
  {
   "cell_type": "code",
   "execution_count": 43,
   "metadata": {},
   "outputs": [],
   "source": [
    "sample_test_unbalanced_df.to_csv('../data/samples/pol_test_cleaned_with_punctuation.csv', sep='\\t', index=False)"
   ]
  }
 ],
 "metadata": {
  "kernelspec": {
   "display_name": "Python 3",
   "language": "python",
   "name": "python3"
  },
  "language_info": {
   "codemirror_mode": {
    "name": "ipython",
    "version": 3
   },
   "file_extension": ".py",
   "mimetype": "text/x-python",
   "name": "python",
   "nbconvert_exporter": "python",
   "pygments_lexer": "ipython3",
   "version": "3.5.2"
  }
 },
 "nbformat": 4,
 "nbformat_minor": 2
}
