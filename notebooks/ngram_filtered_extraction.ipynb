{
 "cells": [
  {
   "cell_type": "code",
   "execution_count": 83,
   "metadata": {},
   "outputs": [],
   "source": [
    "from sklearn.feature_extraction.text import CountVectorizer\n",
    "import pandas as pd\n",
    "import numpy as np\n",
    "import scipy\n",
    "import os"
   ]
  },
  {
   "cell_type": "code",
   "execution_count": 84,
   "metadata": {},
   "outputs": [],
   "source": [
    "train_df = pd.read_csv('../data/samples/pol_train_rebalanced_cleaned.csv', sep='\\t')\n",
    "test_df = pd.read_csv('../data/samples/pol_test_rebalanced_cleaned.csv', sep='\\t')"
   ]
  },
  {
   "cell_type": "code",
   "execution_count": 85,
   "metadata": {},
   "outputs": [
    {
     "data": {
      "text/html": [
       "<div>\n",
       "<style scoped>\n",
       "    .dataframe tbody tr th:only-of-type {\n",
       "        vertical-align: middle;\n",
       "    }\n",
       "\n",
       "    .dataframe tbody tr th {\n",
       "        vertical-align: top;\n",
       "    }\n",
       "\n",
       "    .dataframe thead th {\n",
       "        text-align: right;\n",
       "    }\n",
       "</style>\n",
       "<table border=\"1\" class=\"dataframe\">\n",
       "  <thead>\n",
       "    <tr style=\"text-align: right;\">\n",
       "      <th></th>\n",
       "      <th>label</th>\n",
       "      <th>comment</th>\n",
       "      <th>author</th>\n",
       "      <th>subreddit</th>\n",
       "      <th>score</th>\n",
       "      <th>ups</th>\n",
       "      <th>downs</th>\n",
       "      <th>date</th>\n",
       "      <th>created_utc</th>\n",
       "      <th>parent_comment</th>\n",
       "    </tr>\n",
       "  </thead>\n",
       "  <tbody>\n",
       "    <tr>\n",
       "      <th>0</th>\n",
       "      <td>0</td>\n",
       "      <td>says</td>\n",
       "      <td>Trumpbart</td>\n",
       "      <td>politics</td>\n",
       "      <td>2</td>\n",
       "      <td>-1</td>\n",
       "      <td>-1</td>\n",
       "      <td>2016-11</td>\n",
       "      <td>1478638229</td>\n",
       "      <td>s</td>\n",
       "    </tr>\n",
       "    <tr>\n",
       "      <th>1</th>\n",
       "      <td>0</td>\n",
       "      <td>NaN</td>\n",
       "      <td>Julythisyear</td>\n",
       "      <td>politics</td>\n",
       "      <td>1</td>\n",
       "      <td>-1</td>\n",
       "      <td>-1</td>\n",
       "      <td>2016-10</td>\n",
       "      <td>1476545869</td>\n",
       "      <td>nice job straw manning neighbor</td>\n",
       "    </tr>\n",
       "    <tr>\n",
       "      <th>2</th>\n",
       "      <td>0</td>\n",
       "      <td>back original stuff fact roe v wade risk ever ...</td>\n",
       "      <td>lipsyncforyourlife</td>\n",
       "      <td>politics</td>\n",
       "      <td>7</td>\n",
       "      <td>-1</td>\n",
       "      <td>-1</td>\n",
       "      <td>2016-11</td>\n",
       "      <td>1479152336</td>\n",
       "      <td>trump s positions actually pretty consistent t...</td>\n",
       "    </tr>\n",
       "    <tr>\n",
       "      <th>3</th>\n",
       "      <td>0</td>\n",
       "      <td>lepage called idiot would really sit rethink e...</td>\n",
       "      <td>lipsyncforyourlife</td>\n",
       "      <td>politics</td>\n",
       "      <td>96</td>\n",
       "      <td>-1</td>\n",
       "      <td>-1</td>\n",
       "      <td>2016-10</td>\n",
       "      <td>1476983334</td>\n",
       "      <td>lepage calls trump s election results comment ...</td>\n",
       "    </tr>\n",
       "    <tr>\n",
       "      <th>4</th>\n",
       "      <td>0</td>\n",
       "      <td>pillage got</td>\n",
       "      <td>lipsyncforyourlife</td>\n",
       "      <td>politics</td>\n",
       "      <td>3</td>\n",
       "      <td>-1</td>\n",
       "      <td>-1</td>\n",
       "      <td>2016-10</td>\n",
       "      <td>1477885687</td>\n",
       "      <td>except fact nt office nt make mistake words vs...</td>\n",
       "    </tr>\n",
       "  </tbody>\n",
       "</table>\n",
       "</div>"
      ],
      "text/plain": [
       "   label                                            comment  \\\n",
       "0      0                                               says   \n",
       "1      0                                                NaN   \n",
       "2      0  back original stuff fact roe v wade risk ever ...   \n",
       "3      0  lepage called idiot would really sit rethink e...   \n",
       "4      0                                        pillage got   \n",
       "\n",
       "               author subreddit  score  ups  downs     date  created_utc  \\\n",
       "0           Trumpbart  politics      2   -1     -1  2016-11   1478638229   \n",
       "1        Julythisyear  politics      1   -1     -1  2016-10   1476545869   \n",
       "2  lipsyncforyourlife  politics      7   -1     -1  2016-11   1479152336   \n",
       "3  lipsyncforyourlife  politics     96   -1     -1  2016-10   1476983334   \n",
       "4  lipsyncforyourlife  politics      3   -1     -1  2016-10   1477885687   \n",
       "\n",
       "                                      parent_comment  \n",
       "0                                                  s  \n",
       "1                    nice job straw manning neighbor  \n",
       "2  trump s positions actually pretty consistent t...  \n",
       "3  lepage calls trump s election results comment ...  \n",
       "4  except fact nt office nt make mistake words vs...  "
      ]
     },
     "execution_count": 85,
     "metadata": {},
     "output_type": "execute_result"
    }
   ],
   "source": [
    "train_df.head()"
   ]
  },
  {
   "cell_type": "code",
   "execution_count": 86,
   "metadata": {},
   "outputs": [
    {
     "data": {
      "text/plain": [
       "(119293, 10)"
      ]
     },
     "execution_count": 86,
     "metadata": {},
     "output_type": "execute_result"
    }
   ],
   "source": [
    "train_df.shape"
   ]
  },
  {
   "cell_type": "code",
   "execution_count": 87,
   "metadata": {},
   "outputs": [],
   "source": [
    "train_df = train_df.fillna(value='')"
   ]
  },
  {
   "cell_type": "code",
   "execution_count": 88,
   "metadata": {},
   "outputs": [],
   "source": [
    "test_df = test_df.fillna(value='')"
   ]
  },
  {
   "cell_type": "code",
   "execution_count": 89,
   "metadata": {},
   "outputs": [],
   "source": [
    "train_comment_flat = np.ndarray.flatten(train_df[['comment']].values)\n",
    "train_parent_comment_flat = np.ndarray.flatten(train_df[['parent_comment']].values)\n",
    "test_comment_flat = np.ndarray.flatten(test_df[['comment']].values)\n",
    "test_parent_comment_flat = np.ndarray.flatten(test_df[['parent_comment']].values)"
   ]
  },
  {
   "cell_type": "code",
   "execution_count": 90,
   "metadata": {},
   "outputs": [],
   "source": [
    "# Fit on all\n",
    "count_vectorizer = CountVectorizer(ngram_range=(2,3), binary=True)\n",
    "corpus =  np.append(train_comment_flat, train_parent_comment_flat)\n",
    "corpus = np.append(corpus, test_comment_flat)\n",
    "corpus = np.append(corpus, test_parent_comment_flat)\n",
    "count_vectorizer = count_vectorizer.fit(corpus)"
   ]
  },
  {
   "cell_type": "code",
   "execution_count": 91,
   "metadata": {},
   "outputs": [],
   "source": [
    "# The article I read filtered from 3-50. Let's filter by the upper bound\n",
    "def get_filtered_ngram_matrix(documents, filter=50):\n",
    "    print('Vectorizing...')\n",
    "    vectorized = count_vectorizer.transform(documents)\n",
    "    print('Original shape is: ' + str(vectorized.shape))\n",
    "    vectorized = vectorized.tocsc()\n",
    "    print('Done.')\n",
    "    print('Filtering...')\n",
    "    sum_by_cols = vectorized.sum(axis=0) # sum by rows\n",
    "    which_cols = np.asarray([x > filter for x in sum_by_cols.tolist()[0]])\n",
    "    print('Done')\n",
    "    new_vectorized = vectorized[:, which_cols]\n",
    "    print('New shape is: ' + str(new_vectorized.shape))\n",
    "    return new_train_vectorized\n"
   ]
  },
  {
   "cell_type": "code",
   "execution_count": 92,
   "metadata": {},
   "outputs": [],
   "source": [
    "train_comment_vec = count_vectorizer.transform(train_comment_flat)\n",
    "train_parent_comment_vec = count_vectorizer.transform(train_parent_comment_flat)\n",
    "test_comment_vec = count_vectorizer.transform(test_comment_flat)\n",
    "test_parent_comment_vec = count_vectorizer.transform(test_parent_comment_flat)"
   ]
  },
  {
   "cell_type": "code",
   "execution_count": 93,
   "metadata": {},
   "outputs": [],
   "source": [
    "total_vec = scipy.sparse.vstack([\n",
    "    train_comment_vec,\n",
    "    train_parent_comment_vec,\n",
    "    test_comment_vec,\n",
    "    test_parent_comment_vec\n",
    "])"
   ]
  },
  {
   "cell_type": "code",
   "execution_count": 94,
   "metadata": {},
   "outputs": [],
   "source": [
    "threshhold = 50\n",
    "which_cols_to_keep = np.asarray([ x > threshhold for x in total_vec.sum(axis=0).tolist()[0]])"
   ]
  },
  {
   "cell_type": "code",
   "execution_count": 95,
   "metadata": {},
   "outputs": [
    {
     "data": {
      "text/plain": [
       "2349"
      ]
     },
     "execution_count": 95,
     "metadata": {},
     "output_type": "execute_result"
    }
   ],
   "source": [
    "sum(which_cols_to_keep)"
   ]
  },
  {
   "cell_type": "code",
   "execution_count": 96,
   "metadata": {},
   "outputs": [],
   "source": [
    "train_comment_vec = train_comment_vec.tocsc()[:, which_cols_to_keep]\n",
    "train_parent_comment_vec = train_parent_comment_vec.tocsc()[:, which_cols_to_keep]\n",
    "test_comment_vec = test_comment_vec.tocsc()[:, which_cols_to_keep]\n",
    "test_parent_comment_vec = test_parent_comment_vec.tocsc()[:, which_cols_to_keep]"
   ]
  },
  {
   "cell_type": "code",
   "execution_count": 97,
   "metadata": {},
   "outputs": [
    {
     "data": {
      "text/plain": [
       "(119293, 2349)"
      ]
     },
     "execution_count": 97,
     "metadata": {},
     "output_type": "execute_result"
    }
   ],
   "source": [
    "train_comment_vec.shape"
   ]
  },
  {
   "cell_type": "markdown",
   "metadata": {},
   "source": [
    "## POS n-grams"
   ]
  },
  {
   "cell_type": "code",
   "execution_count": 98,
   "metadata": {},
   "outputs": [],
   "source": [
    "# And also POS?\n",
    "import nltk\n",
    "from nltk.tokenize import word_tokenize\n",
    "def extract_pos(sentence):\n",
    "    tokenized_sentence = nltk.pos_tag(word_tokenize(sentence))\n",
    "    return ' '.join(x[1] for x in tokenized_sentence)"
   ]
  },
  {
   "cell_type": "code",
   "execution_count": 99,
   "metadata": {},
   "outputs": [],
   "source": [
    "train_comment_flat = np.ndarray.flatten(train_df[['comment']].values)\n",
    "train_parent_comment_flat = np.ndarray.flatten(train_df[['parent_comment']].values)\n",
    "test_comment_flat = np.ndarray.flatten(test_df[['comment']].values)\n",
    "test_parent_comment_flat = np.ndarray.flatten(test_df[['parent_comment']].values)"
   ]
  },
  {
   "cell_type": "code",
   "execution_count": 100,
   "metadata": {},
   "outputs": [],
   "source": [
    "train_comment_ngram = [extract_pos(x) for x in train_comment_flat]\n",
    "train_parent_comment_ngram = [extract_pos(x) for x in train_parent_comment_flat]\n",
    "test_comment_ngram = [extract_pos(x) for x in test_comment_flat]\n",
    "test_parent_comment_ngram = [extract_pos(x) for x in test_parent_comment_flat]"
   ]
  },
  {
   "cell_type": "code",
   "execution_count": 101,
   "metadata": {},
   "outputs": [],
   "source": [
    "pos_vectorizer = CountVectorizer(ngram_range=(3,5), binary=True)\n",
    "corpus = train_comment_ngram + train_parent_comment_ngram + test_comment_ngram + test_parent_comment_ngram\n",
    "pos_vectorizer = pos_vectorizer.fit(corpus)"
   ]
  },
  {
   "cell_type": "code",
   "execution_count": 102,
   "metadata": {},
   "outputs": [],
   "source": [
    "train_comment_ngram_vec = pos_vectorizer.transform(train_comment_ngram)\n",
    "train_parent_comment_ngram_vec = pos_vectorizer.transform(train_parent_comment_ngram)\n",
    "test_comment_ngram_vec = pos_vectorizer.transform(test_comment_ngram)\n",
    "test_parent_comment_ngram_vec = pos_vectorizer.transform(test_parent_comment_ngram)"
   ]
  },
  {
   "cell_type": "code",
   "execution_count": 103,
   "metadata": {},
   "outputs": [],
   "source": [
    "total_vec = scipy.sparse.vstack([\n",
    "    train_comment_ngram_vec,\n",
    "    train_parent_comment_ngram_vec,\n",
    "    test_comment_ngram_vec,\n",
    "    test_parent_comment_ngram_vec\n",
    "])"
   ]
  },
  {
   "cell_type": "code",
   "execution_count": 104,
   "metadata": {},
   "outputs": [],
   "source": [
    "threshhold = 50 # The original paper says 5 but lol we're not working with 100k features \n",
    "which_cols_to_keep = np.asarray([x > threshhold for x in total_vec.sum(axis=0).tolist()[0]])"
   ]
  },
  {
   "cell_type": "code",
   "execution_count": 105,
   "metadata": {},
   "outputs": [
    {
     "data": {
      "text/plain": [
       "13120"
      ]
     },
     "execution_count": 105,
     "metadata": {},
     "output_type": "execute_result"
    }
   ],
   "source": [
    "sum(which_cols_to_keep)"
   ]
  },
  {
   "cell_type": "code",
   "execution_count": 106,
   "metadata": {},
   "outputs": [],
   "source": [
    "train_comment_ngram_vec = train_comment_ngram_vec.tocsc()[:, which_cols_to_keep]\n",
    "train_parent_comment_ngram_vec = train_parent_comment_ngram_vec.tocsc()[:, which_cols_to_keep]\n",
    "test_comment_ngram_vec = test_comment_ngram_vec.tocsc()[:, which_cols_to_keep]\n",
    "test_parent_comment_ngram_vec = test_parent_comment_ngram_vec.tocsc()[:, which_cols_to_keep]"
   ]
  },
  {
   "cell_type": "code",
   "execution_count": 107,
   "metadata": {},
   "outputs": [
    {
     "data": {
      "text/plain": [
       "(119293, 13120)"
      ]
     },
     "execution_count": 107,
     "metadata": {},
     "output_type": "execute_result"
    }
   ],
   "source": [
    "train_comment_ngram_vec.shape"
   ]
  },
  {
   "cell_type": "code",
   "execution_count": 108,
   "metadata": {},
   "outputs": [],
   "source": [
    "train_vec = scipy.sparse.hstack([train_comment_vec, train_parent_comment_vec, train_comment_ngram_vec, train_parent_comment_ngram_vec])\n",
    "test_vec = scipy.sparse.hstack([test_comment_vec, test_parent_comment_vec, test_comment_ngram_vec, test_parent_comment_ngram_vec])"
   ]
  },
  {
   "cell_type": "code",
   "execution_count": 109,
   "metadata": {},
   "outputs": [
    {
     "data": {
      "text/plain": [
       "(119293, 30938)"
      ]
     },
     "execution_count": 109,
     "metadata": {},
     "output_type": "execute_result"
    }
   ],
   "source": [
    "train_vec.shape"
   ]
  },
  {
   "cell_type": "code",
   "execution_count": 110,
   "metadata": {},
   "outputs": [
    {
     "data": {
      "text/plain": [
       "(29526, 30938)"
      ]
     },
     "execution_count": 110,
     "metadata": {},
     "output_type": "execute_result"
    }
   ],
   "source": [
    "test_vec.shape"
   ]
  },
  {
   "cell_type": "code",
   "execution_count": 111,
   "metadata": {},
   "outputs": [],
   "source": [
    "data_base_dir = '../data/features'\n",
    "scipy.sparse.save_npz(open(os.path.join(data_base_dir, \"ngram_train_balanced.npz\"), \"wb+\"), train_vec.tocoo())\n",
    "scipy.sparse.save_npz(open(os.path.join(data_base_dir,\"ngram_test_balanced.npz\"), \"wb+\"), test_vec.tocoo())"
   ]
  }
 ],
 "metadata": {
  "kernelspec": {
   "display_name": "Python 3",
   "language": "python",
   "name": "python3"
  },
  "language_info": {
   "codemirror_mode": {
    "name": "ipython",
    "version": 3
   },
   "file_extension": ".py",
   "mimetype": "text/x-python",
   "name": "python",
   "nbconvert_exporter": "python",
   "pygments_lexer": "ipython3",
   "version": "3.5.2"
  }
 },
 "nbformat": 4,
 "nbformat_minor": 2
}
