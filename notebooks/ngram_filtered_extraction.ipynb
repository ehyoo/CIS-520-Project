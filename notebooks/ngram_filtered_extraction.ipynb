{
 "cells": [
  {
   "cell_type": "code",
   "execution_count": 1,
   "metadata": {},
   "outputs": [],
   "source": [
    "from sklearn.feature_extraction.text import CountVectorizer\n",
    "import pandas as pd\n",
    "import numpy as np\n",
    "import scipy\n",
    "import os"
   ]
  },
  {
   "cell_type": "code",
   "execution_count": 2,
   "metadata": {},
   "outputs": [],
   "source": [
    "train_df = pd.read_csv('../data/samples/pol_train_rebalanced_cleaned.csv', sep='\\t')\n",
    "test_df = pd.read_csv('../data/samples/pol_test_rebalanced_cleaned.csv', sep='\\t')"
   ]
  },
  {
   "cell_type": "code",
   "execution_count": 3,
   "metadata": {},
   "outputs": [
    {
     "data": {
      "text/html": [
       "<div>\n",
       "<style scoped>\n",
       "    .dataframe tbody tr th:only-of-type {\n",
       "        vertical-align: middle;\n",
       "    }\n",
       "\n",
       "    .dataframe tbody tr th {\n",
       "        vertical-align: top;\n",
       "    }\n",
       "\n",
       "    .dataframe thead th {\n",
       "        text-align: right;\n",
       "    }\n",
       "</style>\n",
       "<table border=\"1\" class=\"dataframe\">\n",
       "  <thead>\n",
       "    <tr style=\"text-align: right;\">\n",
       "      <th></th>\n",
       "      <th>label</th>\n",
       "      <th>comment</th>\n",
       "      <th>author</th>\n",
       "      <th>subreddit</th>\n",
       "      <th>score</th>\n",
       "      <th>ups</th>\n",
       "      <th>downs</th>\n",
       "      <th>date</th>\n",
       "      <th>created_utc</th>\n",
       "      <th>parent_comment</th>\n",
       "    </tr>\n",
       "  </thead>\n",
       "  <tbody>\n",
       "    <tr>\n",
       "      <th>0</th>\n",
       "      <td>0</td>\n",
       "      <td>says</td>\n",
       "      <td>Trumpbart</td>\n",
       "      <td>politics</td>\n",
       "      <td>2</td>\n",
       "      <td>-1</td>\n",
       "      <td>-1</td>\n",
       "      <td>2016-11</td>\n",
       "      <td>1478638229</td>\n",
       "      <td>s</td>\n",
       "    </tr>\n",
       "    <tr>\n",
       "      <th>1</th>\n",
       "      <td>0</td>\n",
       "      <td>NaN</td>\n",
       "      <td>Julythisyear</td>\n",
       "      <td>politics</td>\n",
       "      <td>1</td>\n",
       "      <td>-1</td>\n",
       "      <td>-1</td>\n",
       "      <td>2016-10</td>\n",
       "      <td>1476545869</td>\n",
       "      <td>nice job straw manning neighbor</td>\n",
       "    </tr>\n",
       "    <tr>\n",
       "      <th>2</th>\n",
       "      <td>0</td>\n",
       "      <td>back original stuff fact roe v wade risk ever ...</td>\n",
       "      <td>lipsyncforyourlife</td>\n",
       "      <td>politics</td>\n",
       "      <td>7</td>\n",
       "      <td>-1</td>\n",
       "      <td>-1</td>\n",
       "      <td>2016-11</td>\n",
       "      <td>1479152336</td>\n",
       "      <td>trump s positions actually pretty consistent t...</td>\n",
       "    </tr>\n",
       "    <tr>\n",
       "      <th>3</th>\n",
       "      <td>0</td>\n",
       "      <td>lepage called idiot would really sit rethink e...</td>\n",
       "      <td>lipsyncforyourlife</td>\n",
       "      <td>politics</td>\n",
       "      <td>96</td>\n",
       "      <td>-1</td>\n",
       "      <td>-1</td>\n",
       "      <td>2016-10</td>\n",
       "      <td>1476983334</td>\n",
       "      <td>lepage calls trump s election results comment ...</td>\n",
       "    </tr>\n",
       "    <tr>\n",
       "      <th>4</th>\n",
       "      <td>0</td>\n",
       "      <td>pillage got</td>\n",
       "      <td>lipsyncforyourlife</td>\n",
       "      <td>politics</td>\n",
       "      <td>3</td>\n",
       "      <td>-1</td>\n",
       "      <td>-1</td>\n",
       "      <td>2016-10</td>\n",
       "      <td>1477885687</td>\n",
       "      <td>except fact nt office nt make mistake words vs...</td>\n",
       "    </tr>\n",
       "  </tbody>\n",
       "</table>\n",
       "</div>"
      ],
      "text/plain": [
       "   label                                            comment  \\\n",
       "0      0                                               says   \n",
       "1      0                                                NaN   \n",
       "2      0  back original stuff fact roe v wade risk ever ...   \n",
       "3      0  lepage called idiot would really sit rethink e...   \n",
       "4      0                                        pillage got   \n",
       "\n",
       "               author subreddit  score  ups  downs     date  created_utc  \\\n",
       "0           Trumpbart  politics      2   -1     -1  2016-11   1478638229   \n",
       "1        Julythisyear  politics      1   -1     -1  2016-10   1476545869   \n",
       "2  lipsyncforyourlife  politics      7   -1     -1  2016-11   1479152336   \n",
       "3  lipsyncforyourlife  politics     96   -1     -1  2016-10   1476983334   \n",
       "4  lipsyncforyourlife  politics      3   -1     -1  2016-10   1477885687   \n",
       "\n",
       "                                      parent_comment  \n",
       "0                                                  s  \n",
       "1                    nice job straw manning neighbor  \n",
       "2  trump s positions actually pretty consistent t...  \n",
       "3  lepage calls trump s election results comment ...  \n",
       "4  except fact nt office nt make mistake words vs...  "
      ]
     },
     "execution_count": 3,
     "metadata": {},
     "output_type": "execute_result"
    }
   ],
   "source": [
    "train_df.head()"
   ]
  },
  {
   "cell_type": "code",
   "execution_count": 4,
   "metadata": {},
   "outputs": [
    {
     "data": {
      "text/plain": [
       "(119293, 10)"
      ]
     },
     "execution_count": 4,
     "metadata": {},
     "output_type": "execute_result"
    }
   ],
   "source": [
    "train_df.shape"
   ]
  },
  {
   "cell_type": "code",
   "execution_count": 5,
   "metadata": {},
   "outputs": [],
   "source": [
    "train_df = train_df.fillna(value='')"
   ]
  },
  {
   "cell_type": "code",
   "execution_count": 6,
   "metadata": {},
   "outputs": [],
   "source": [
    "test_df = test_df.fillna(value='')"
   ]
  },
  {
   "cell_type": "code",
   "execution_count": 7,
   "metadata": {},
   "outputs": [],
   "source": [
    "train_comment_flat = np.ndarray.flatten(train_df[['comment']].values)\n",
    "train_parent_comment_flat = np.ndarray.flatten(train_df[['parent_comment']].values)\n",
    "test_comment_flat = np.ndarray.flatten(test_df[['comment']].values)\n",
    "test_parent_comment_flat = np.ndarray.flatten(test_df[['parent_comment']].values)"
   ]
  },
  {
   "cell_type": "code",
   "execution_count": 8,
   "metadata": {},
   "outputs": [],
   "source": [
    "# Fit on all\n",
    "count_vectorizer = CountVectorizer(ngram_range=(2,3), binary=True)\n",
    "corpus =  np.append(train_comment_flat, train_parent_comment_flat)\n",
    "corpus = np.append(corpus, test_comment_flat)\n",
    "corpus = np.append(corpus, test_parent_comment_flat)\n",
    "count_vectorizer = count_vectorizer.fit(corpus)"
   ]
  },
  {
   "cell_type": "code",
   "execution_count": 9,
   "metadata": {},
   "outputs": [],
   "source": [
    "train_comment_vec = count_vectorizer.transform(train_comment_flat)\n",
    "train_parent_comment_vec = count_vectorizer.transform(train_parent_comment_flat)\n",
    "test_comment_vec = count_vectorizer.transform(test_comment_flat)\n",
    "test_parent_comment_vec = count_vectorizer.transform(test_parent_comment_flat)"
   ]
  },
  {
   "cell_type": "code",
   "execution_count": 10,
   "metadata": {},
   "outputs": [],
   "source": [
    "total_ngram_vec = scipy.sparse.vstack([\n",
    "    train_comment_vec,\n",
    "    train_parent_comment_vec,\n",
    "    test_comment_vec,\n",
    "    test_parent_comment_vec\n",
    "])"
   ]
  },
  {
   "cell_type": "code",
   "execution_count": 11,
   "metadata": {},
   "outputs": [],
   "source": [
    "threshhold = 100 # from pton paper\n",
    "which_cols_to_keep = np.asarray([ x > threshhold for x in total_ngram_vec.sum(axis=0).tolist()[0]])"
   ]
  },
  {
   "cell_type": "code",
   "execution_count": 12,
   "metadata": {},
   "outputs": [
    {
     "data": {
      "text/plain": [
       "774"
      ]
     },
     "execution_count": 12,
     "metadata": {},
     "output_type": "execute_result"
    }
   ],
   "source": [
    "sum(which_cols_to_keep)"
   ]
  },
  {
   "cell_type": "code",
   "execution_count": 13,
   "metadata": {},
   "outputs": [],
   "source": [
    "train_comment_vec = train_comment_vec.tocsc()[:, which_cols_to_keep]\n",
    "train_parent_comment_vec = train_parent_comment_vec.tocsc()[:, which_cols_to_keep]\n",
    "test_comment_vec = test_comment_vec.tocsc()[:, which_cols_to_keep]\n",
    "test_parent_comment_vec = test_parent_comment_vec.tocsc()[:, which_cols_to_keep]"
   ]
  },
  {
   "cell_type": "code",
   "execution_count": 14,
   "metadata": {},
   "outputs": [
    {
     "data": {
      "text/plain": [
       "(119293, 774)"
      ]
     },
     "execution_count": 14,
     "metadata": {},
     "output_type": "execute_result"
    }
   ],
   "source": [
    "train_comment_vec.shape"
   ]
  },
  {
   "cell_type": "markdown",
   "metadata": {},
   "source": [
    "## POS n-grams"
   ]
  },
  {
   "cell_type": "code",
   "execution_count": 15,
   "metadata": {},
   "outputs": [],
   "source": [
    "# And also POS?\n",
    "import nltk\n",
    "from nltk.tokenize import word_tokenize\n",
    "def extract_pos(sentence):\n",
    "    tokenized_sentence = nltk.pos_tag(word_tokenize(sentence))\n",
    "    return ' '.join(x[1] for x in tokenized_sentence)"
   ]
  },
  {
   "cell_type": "code",
   "execution_count": 16,
   "metadata": {},
   "outputs": [],
   "source": [
    "train_comment_flat = np.ndarray.flatten(train_df[['comment']].values)\n",
    "train_parent_comment_flat = np.ndarray.flatten(train_df[['parent_comment']].values)\n",
    "test_comment_flat = np.ndarray.flatten(test_df[['comment']].values)\n",
    "test_parent_comment_flat = np.ndarray.flatten(test_df[['parent_comment']].values)"
   ]
  },
  {
   "cell_type": "code",
   "execution_count": 17,
   "metadata": {},
   "outputs": [],
   "source": [
    "train_comment_ngram = [extract_pos(x) for x in train_comment_flat]\n",
    "train_parent_comment_ngram = [extract_pos(x) for x in train_parent_comment_flat]\n",
    "test_comment_ngram = [extract_pos(x) for x in test_comment_flat]\n",
    "test_parent_comment_ngram = [extract_pos(x) for x in test_parent_comment_flat]"
   ]
  },
  {
   "cell_type": "code",
   "execution_count": 18,
   "metadata": {},
   "outputs": [],
   "source": [
    "pos_vectorizer = CountVectorizer(ngram_range=(3,6), binary=True) # from ptacek's paper\n",
    "corpus = train_comment_ngram + train_parent_comment_ngram + test_comment_ngram + test_parent_comment_ngram\n",
    "pos_vectorizer = pos_vectorizer.fit(corpus)"
   ]
  },
  {
   "cell_type": "code",
   "execution_count": 19,
   "metadata": {},
   "outputs": [],
   "source": [
    "train_comment_ngram_vec = pos_vectorizer.transform(train_comment_ngram)\n",
    "train_parent_comment_ngram_vec = pos_vectorizer.transform(train_parent_comment_ngram)\n",
    "test_comment_ngram_vec = pos_vectorizer.transform(test_comment_ngram)\n",
    "test_parent_comment_ngram_vec = pos_vectorizer.transform(test_parent_comment_ngram)"
   ]
  },
  {
   "cell_type": "code",
   "execution_count": 20,
   "metadata": {},
   "outputs": [],
   "source": [
    "total_pos_ngram_vec = scipy.sparse.vstack([\n",
    "    train_comment_ngram_vec,\n",
    "    train_parent_comment_ngram_vec,\n",
    "    test_comment_ngram_vec,\n",
    "    test_parent_comment_ngram_vec\n",
    "])"
   ]
  },
  {
   "cell_type": "code",
   "execution_count": 21,
   "metadata": {},
   "outputs": [],
   "source": [
    "threshhold = 100 # The original paper says 5 but lol we're not working with 100k features \n",
    "# princeton paper utilizes 100 as threshhold as well\n",
    "which_cols_to_keep = np.asarray([x > threshhold for x in total_pos_ngram_vec.sum(axis=0).tolist()[0]])"
   ]
  },
  {
   "cell_type": "code",
   "execution_count": 22,
   "metadata": {},
   "outputs": [
    {
     "data": {
      "text/plain": [
       "9140"
      ]
     },
     "execution_count": 22,
     "metadata": {},
     "output_type": "execute_result"
    }
   ],
   "source": [
    "sum(which_cols_to_keep)"
   ]
  },
  {
   "cell_type": "code",
   "execution_count": 23,
   "metadata": {},
   "outputs": [],
   "source": [
    "train_comment_ngram_vec = train_comment_ngram_vec.tocsc()[:, which_cols_to_keep]\n",
    "train_parent_comment_ngram_vec = train_parent_comment_ngram_vec.tocsc()[:, which_cols_to_keep]\n",
    "test_comment_ngram_vec = test_comment_ngram_vec.tocsc()[:, which_cols_to_keep]\n",
    "test_parent_comment_ngram_vec = test_parent_comment_ngram_vec.tocsc()[:, which_cols_to_keep]"
   ]
  },
  {
   "cell_type": "code",
   "execution_count": 25,
   "metadata": {},
   "outputs": [
    {
     "data": {
      "text/plain": [
       "(119293, 9140)"
      ]
     },
     "execution_count": 25,
     "metadata": {},
     "output_type": "execute_result"
    }
   ],
   "source": [
    "train_comment_ngram_vec.shape"
   ]
  },
  {
   "cell_type": "code",
   "execution_count": 26,
   "metadata": {},
   "outputs": [],
   "source": [
    "data_base_dir = '../data/features'\n"
   ]
  },
  {
   "cell_type": "code",
   "execution_count": 27,
   "metadata": {},
   "outputs": [],
   "source": [
    "# Then making our different data sets\n",
    "\n",
    "# First, n-gram words only\n",
    "words_only_vec_train = scipy.sparse.hstack([train_comment_vec, train_parent_comment_vec])\n",
    "words_only_vec_test = scipy.sparse.hstack([test_comment_vec, test_parent_comment_vec])\n",
    "\n",
    "scipy.sparse.save_npz(open(os.path.join(data_base_dir, \"ngram_train_words_only_balanced.npz\"), \"wb+\"), words_only_vec_train.tocoo())\n",
    "scipy.sparse.save_npz(open(os.path.join(data_base_dir,\"ngram_test_words_only_balanced.npz\"), \"wb+\"), words_only_vec_test.tocoo())"
   ]
  },
  {
   "cell_type": "code",
   "execution_count": 30,
   "metadata": {},
   "outputs": [
    {
     "name": "stdout",
     "output_type": "stream",
     "text": [
      "(119293, 1548)\n",
      "(29526, 1548)\n"
     ]
    }
   ],
   "source": [
    "print(words_only_vec_train.shape)\n",
    "print(words_only_vec_test.shape)"
   ]
  },
  {
   "cell_type": "code",
   "execution_count": 28,
   "metadata": {},
   "outputs": [],
   "source": [
    "# Then, POS n-gram only\n",
    "pos_only_train_vec = scipy.sparse.hstack([train_comment_ngram_vec, train_parent_comment_ngram_vec])\n",
    "pos_only_test_vec = scipy.sparse.hstack([test_comment_ngram_vec, test_parent_comment_ngram_vec])\n",
    "\n",
    "scipy.sparse.save_npz(open(os.path.join(data_base_dir, \"ngram_train_pos_only_balanced.npz\"), \"wb+\"), pos_only_train_vec.tocoo())\n",
    "scipy.sparse.save_npz(open(os.path.join(data_base_dir,\"ngram_test_pos_only_balanced.npz\"), \"wb+\"), pos_only_test_vec.tocoo())"
   ]
  },
  {
   "cell_type": "code",
   "execution_count": 33,
   "metadata": {},
   "outputs": [
    {
     "name": "stdout",
     "output_type": "stream",
     "text": [
      "(119293, 18280)\n",
      "(29526, 18280)\n"
     ]
    }
   ],
   "source": [
    "print(pos_only_train_vec.shape)\n",
    "print(pos_only_test_vec.shape)"
   ]
  },
  {
   "cell_type": "code",
   "execution_count": 29,
   "metadata": {},
   "outputs": [],
   "source": [
    "# Finally, all.\n",
    "\n",
    "train_vec = scipy.sparse.hstack([train_comment_vec, train_parent_comment_vec, train_comment_ngram_vec, train_parent_comment_ngram_vec])\n",
    "test_vec = scipy.sparse.hstack([test_comment_vec, test_parent_comment_vec, test_comment_ngram_vec, test_parent_comment_ngram_vec])\n",
    "\n",
    "scipy.sparse.save_npz(open(os.path.join(data_base_dir, \"ngram_train_balanced.npz\"), \"wb+\"), train_vec.tocoo())\n",
    "scipy.sparse.save_npz(open(os.path.join(data_base_dir,\"ngram_test_balanced.npz\"), \"wb+\"), test_vec.tocoo())"
   ]
  },
  {
   "cell_type": "code",
   "execution_count": 31,
   "metadata": {},
   "outputs": [
    {
     "name": "stdout",
     "output_type": "stream",
     "text": [
      "(119293, 19828)\n"
     ]
    }
   ],
   "source": [
    "print(train_vec.shape)"
   ]
  },
  {
   "cell_type": "code",
   "execution_count": 32,
   "metadata": {},
   "outputs": [
    {
     "name": "stdout",
     "output_type": "stream",
     "text": [
      "(29526, 19828)\n"
     ]
    }
   ],
   "source": [
    "print(test_vec.shape)"
   ]
  }
 ],
 "metadata": {
  "kernelspec": {
   "display_name": "Python 3",
   "language": "python",
   "name": "python3"
  },
  "language_info": {
   "codemirror_mode": {
    "name": "ipython",
    "version": 3
   },
   "file_extension": ".py",
   "mimetype": "text/x-python",
   "name": "python",
   "nbconvert_exporter": "python",
   "pygments_lexer": "ipython3",
   "version": "3.5.2"
  }
 },
 "nbformat": 4,
 "nbformat_minor": 2
}
